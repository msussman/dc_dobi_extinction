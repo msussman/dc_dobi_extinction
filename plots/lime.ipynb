{
 "cells": [
  {
   "cell_type": "code",
   "execution_count": 1,
   "metadata": {},
   "outputs": [],
   "source": [
    "import sys\n",
    "sys.path.append(\"..\")\n",
    "import pandas as pd\n",
    "import util_functions as uf\n",
    "import altair as alt\n",
    "import json\n",
    "import requests\n",
    "from datetime import date"
   ]
  },
  {
   "cell_type": "code",
   "execution_count": 2,
   "metadata": {},
   "outputs": [
    {
     "data": {
      "text/plain": [
       "ThemeRegistry.enable('opaque')"
      ]
     },
     "execution_count": 2,
     "metadata": {},
     "output_type": "execute_result"
    }
   ],
   "source": [
    "alt.renderers.enable('notebook')\n",
    "alt.themes.enable('opaque')"
   ]
  },
  {
   "cell_type": "code",
   "execution_count": 3,
   "metadata": {},
   "outputs": [],
   "source": [
    "def lime_totals(con):\n",
    "    # Query Dockless Start by ANC and Overlaps\n",
    "    return pd.read_sql(\"\"\"SELECT DISTINCT\n",
    "                            loc.date,\n",
    "                            COUNT(distinct bike.bike_id) as daily_bike_count,\n",
    "                            COUNT(distinct scooter.bike_id) as daily_scooter_count,\n",
    "                            COUNT(distinct lime.bike_id) as daily_lime_count,\n",
    "                            COUNT(distinct lime.bike_id) -\n",
    "                            COUNT(distinct bike.bike_id) -\n",
    "                            COUNT(distinct scooter.bike_id)  as daily_unknown_count\n",
    "                            FROM\n",
    "                            (select distinct\n",
    "                                created::date as date, \n",
    "                                bike_id \n",
    "                                from bike_locations\n",
    "                                where provider='limebike') as loc\n",
    "                            LEFT JOIN\n",
    "                            ((SELECT DISTINCT\n",
    "                                bike_id\n",
    "                                FROM\n",
    "                                (SELECT DISTINCT \n",
    "                                bike_id,\n",
    "                                min(created::date) as start_date\n",
    "                                FROM bike_locations\n",
    "                                WHERE\n",
    "                                provider='limebike'\n",
    "                                group by bike_id) as lime_starts\n",
    "                                /*any limes that started before 3/10 assumed to be bikes*/\n",
    "                                WHERE start_date < '2018-03-10')\n",
    "                                UNION\n",
    "                                (SELECT DISTINCT \n",
    "                                bike_id\n",
    "                                FROM bike_locations\n",
    "                                WHERE\n",
    "                                provider='limebike' AND\n",
    "                                raw->'attributes'->>'vehicle_type'='bike'\n",
    "                                group by 1)) as bike\n",
    "                            on loc.bike_id = bike.bike_id \n",
    "                            LEFT JOIN\n",
    "                            (SELECT DISTINCT \n",
    "                                bike_id\n",
    "                                FROM bike_locations\n",
    "                                WHERE\n",
    "                                provider='limebike' AND\n",
    "                                raw->'attributes'->>'vehicle_type'='scooter'\n",
    "                                group by 1) as scooter\n",
    "                            on loc.bike_id = scooter.bike_id \n",
    "                            LEFT JOIN\n",
    "                            (SELECT DISTINCT \n",
    "                                bike_id\n",
    "                                FROM bike_locations\n",
    "                                WHERE\n",
    "                                provider='limebike'\n",
    "                                group by 1) as lime\n",
    "                            on loc.bike_id = lime.bike_id \n",
    "                            group by 1\n",
    "                            order by 1;\n",
    "                \"\"\", con=con)"
   ]
  },
  {
   "cell_type": "code",
   "execution_count": 4,
   "metadata": {},
   "outputs": [],
   "source": [
    "uf.set_env_path()\n",
    "conn, cur = uf.local_connect()\n",
    "# Return Dataframe of Percent of Trips by ANC\n",
    "df = lime_totals(con=conn)\n"
   ]
  },
  {
   "cell_type": "code",
   "execution_count": 5,
   "metadata": {},
   "outputs": [],
   "source": [
    "df['daily_known_count'] = df['daily_bike_count'] + df['daily_scooter_count'] \n",
    "df['bikes'] = (df['daily_bike_count'] + ((df['daily_bike_count']/df['daily_known_count']) * df['daily_unknown_count'])).astype(int)\n",
    "df['scooters'] = (df['daily_scooter_count'] + ((df['daily_scooter_count']/df['daily_known_count']) * df['daily_unknown_count'])).astype(int)"
   ]
  },
  {
   "cell_type": "code",
   "execution_count": 6,
   "metadata": {},
   "outputs": [],
   "source": [
    "df['date'] = pd.to_datetime(df['date'])"
   ]
  },
  {
   "cell_type": "code",
   "execution_count": 7,
   "metadata": {},
   "outputs": [],
   "source": [
    "melted_df =  pd.melt(df, id_vars=['date'],\n",
    "                         value_vars=['bikes', 'scooters'],\n",
    "                         var_name = 'Lime Vehicles'\n",
    "                         )\n",
    "melted_df=melted_df.rename(columns = {'value':'Daily Vehicles on Street'})"
   ]
  },
  {
   "cell_type": "markdown",
   "metadata": {},
   "source": [
    "## Add Timeline Events to Dataframe to Annotate Plot\n",
    "\n",
    "* 3/10/2018 - Scooters Introducted\n",
    "* 5/21/2018 - Shift to more scooters announced"
   ]
  },
  {
   "cell_type": "code",
   "execution_count": 15,
   "metadata": {},
   "outputs": [],
   "source": [
    "dates = [date(2018,3,10),\n",
    "         date(2018,4,27),\n",
    "         date(2018,5,21),\n",
    "         date(2018,8,30)]\n",
    "events = ['Scooters Intro  ',\n",
    "          'DDOT extends pilot to Aug  ',\n",
    "          'More scooters announced  ',\n",
    "          'DDOT extends pilot to Dec  ']\n",
    "timeline_df = pd.DataFrame({'date': dates, 'event': events})\n",
    "timeline_df['Lime Vehicles'] = 'scooters'\n",
    "timeline_df['date'] = pd.to_datetime(timeline_df['date'])\n",
    "\n",
    "\n",
    "merge_df = melted_df.merge(timeline_df, on=['date', 'Lime Vehicles'], how='left')\n",
    "merge_df['event'] =  merge_df['event'].fillna('')"
   ]
  },
  {
   "cell_type": "code",
   "execution_count": 17,
   "metadata": {},
   "outputs": [
    {
     "data": {
      "text/html": [
       "<div class=\"vega-embed\" id=\"4e55c0d7-e3ad-42fc-86bc-0109a8b03c08\"></div>\n",
       "\n",
       "<style>\n",
       ".vega-embed .vega-actions > a {\n",
       "    transition: opacity 200ms ease-in;\n",
       "    opacity: 0.3;\n",
       "    margin-right: 0.6em;\n",
       "    color: #444;\n",
       "    text-decoration: none;\n",
       "}\n",
       "\n",
       ".vega-embed .vega-actions > a:hover {\n",
       "    color: #000;\n",
       "    text-decoration: underline;\n",
       "}\n",
       "\n",
       ".vega-embed:hover .vega-actions > a {\n",
       "    opacity: 1;\n",
       "    transition: 0s;\n",
       "}\n",
       "\n",
       ".vega-embed .error p {\n",
       "    color: firebrick;\n",
       "    font-size: 1.2em;\n",
       "}\n",
       "</style>\n"
      ]
     },
     "metadata": {
      "jupyter-vega3": "#4e55c0d7-e3ad-42fc-86bc-0109a8b03c08"
     },
     "output_type": "display_data"
    },
    {
     "data": {
      "application/javascript": [
       "var spec = {\"config\": {\"background\": \"white\", \"view\": {\"width\": 400, \"height\": 300}}, \"layer\": [{\"data\": {\"values\": [{\"date\": \"2018-02-18\", \"Lime Vehicles\": \"bikes\", \"Daily Vehicles on Street\": 370, \"event\": \"\"}, {\"date\": \"2018-02-19\", \"Lime Vehicles\": \"bikes\", \"Daily Vehicles on Street\": 385, \"event\": \"\"}, {\"date\": \"2018-02-20\", \"Lime Vehicles\": \"bikes\", \"Daily Vehicles on Street\": 391, \"event\": \"\"}, {\"date\": \"2018-02-21\", \"Lime Vehicles\": \"bikes\", \"Daily Vehicles on Street\": 422, \"event\": \"\"}, {\"date\": \"2018-02-22\", \"Lime Vehicles\": \"bikes\", \"Daily Vehicles on Street\": 409, \"event\": \"\"}, {\"date\": \"2018-02-23\", \"Lime Vehicles\": \"bikes\", \"Daily Vehicles on Street\": 399, \"event\": \"\"}, {\"date\": \"2018-02-24\", \"Lime Vehicles\": \"bikes\", \"Daily Vehicles on Street\": 398, \"event\": \"\"}, {\"date\": \"2018-02-25\", \"Lime Vehicles\": \"bikes\", \"Daily Vehicles on Street\": 386, \"event\": \"\"}, {\"date\": \"2018-02-26\", \"Lime Vehicles\": \"bikes\", \"Daily Vehicles on Street\": 402, \"event\": \"\"}, {\"date\": \"2018-02-27\", \"Lime Vehicles\": \"bikes\", \"Daily Vehicles on Street\": 401, \"event\": \"\"}, {\"date\": \"2018-02-28\", \"Lime Vehicles\": \"bikes\", \"Daily Vehicles on Street\": 404, \"event\": \"\"}, {\"date\": \"2018-03-01\", \"Lime Vehicles\": \"bikes\", \"Daily Vehicles on Street\": 404, \"event\": \"\"}, {\"date\": \"2018-03-02\", \"Lime Vehicles\": \"bikes\", \"Daily Vehicles on Street\": 387, \"event\": \"\"}, {\"date\": \"2018-03-03\", \"Lime Vehicles\": \"bikes\", \"Daily Vehicles on Street\": 373, \"event\": \"\"}, {\"date\": \"2018-03-04\", \"Lime Vehicles\": \"bikes\", \"Daily Vehicles on Street\": 374, \"event\": \"\"}, {\"date\": \"2018-03-05\", \"Lime Vehicles\": \"bikes\", \"Daily Vehicles on Street\": 374, \"event\": \"\"}, {\"date\": \"2018-03-06\", \"Lime Vehicles\": \"bikes\", \"Daily Vehicles on Street\": 370, \"event\": \"\"}, {\"date\": \"2018-03-07\", \"Lime Vehicles\": \"bikes\", \"Daily Vehicles on Street\": 378, \"event\": \"\"}, {\"date\": \"2018-03-08\", \"Lime Vehicles\": \"bikes\", \"Daily Vehicles on Street\": 378, \"event\": \"\"}, {\"date\": \"2018-03-09\", \"Lime Vehicles\": \"bikes\", \"Daily Vehicles on Street\": 369, \"event\": \"\"}, {\"date\": \"2018-03-10\", \"Lime Vehicles\": \"bikes\", \"Daily Vehicles on Street\": 409, \"event\": \"\"}, {\"date\": \"2018-03-11\", \"Lime Vehicles\": \"bikes\", \"Daily Vehicles on Street\": 445, \"event\": \"\"}, {\"date\": \"2018-03-12\", \"Lime Vehicles\": \"bikes\", \"Daily Vehicles on Street\": 470, \"event\": \"\"}, {\"date\": \"2018-03-13\", \"Lime Vehicles\": \"bikes\", \"Daily Vehicles on Street\": 462, \"event\": \"\"}, {\"date\": \"2018-03-14\", \"Lime Vehicles\": \"bikes\", \"Daily Vehicles on Street\": 450, \"event\": \"\"}, {\"date\": \"2018-03-15\", \"Lime Vehicles\": \"bikes\", \"Daily Vehicles on Street\": 453, \"event\": \"\"}, {\"date\": \"2018-03-16\", \"Lime Vehicles\": \"bikes\", \"Daily Vehicles on Street\": 448, \"event\": \"\"}, {\"date\": \"2018-03-17\", \"Lime Vehicles\": \"bikes\", \"Daily Vehicles on Street\": 442, \"event\": \"\"}, {\"date\": \"2018-03-18\", \"Lime Vehicles\": \"bikes\", \"Daily Vehicles on Street\": 452, \"event\": \"\"}, {\"date\": \"2018-03-19\", \"Lime Vehicles\": \"bikes\", \"Daily Vehicles on Street\": 436, \"event\": \"\"}, {\"date\": \"2018-03-20\", \"Lime Vehicles\": \"bikes\", \"Daily Vehicles on Street\": 368, \"event\": \"\"}, {\"date\": \"2018-03-21\", \"Lime Vehicles\": \"bikes\", \"Daily Vehicles on Street\": 259, \"event\": \"\"}, {\"date\": \"2018-03-22\", \"Lime Vehicles\": \"bikes\", \"Daily Vehicles on Street\": 316, \"event\": \"\"}, {\"date\": \"2018-03-23\", \"Lime Vehicles\": \"bikes\", \"Daily Vehicles on Street\": 444, \"event\": \"\"}, {\"date\": \"2018-03-24\", \"Lime Vehicles\": \"bikes\", \"Daily Vehicles on Street\": 431, \"event\": \"\"}, {\"date\": \"2018-03-25\", \"Lime Vehicles\": \"bikes\", \"Daily Vehicles on Street\": 423, \"event\": \"\"}, {\"date\": \"2018-03-26\", \"Lime Vehicles\": \"bikes\", \"Daily Vehicles on Street\": 419, \"event\": \"\"}, {\"date\": \"2018-03-27\", \"Lime Vehicles\": \"bikes\", \"Daily Vehicles on Street\": 408, \"event\": \"\"}, {\"date\": \"2018-03-28\", \"Lime Vehicles\": \"bikes\", \"Daily Vehicles on Street\": 355, \"event\": \"\"}, {\"date\": \"2018-03-29\", \"Lime Vehicles\": \"bikes\", \"Daily Vehicles on Street\": 310, \"event\": \"\"}, {\"date\": \"2018-03-30\", \"Lime Vehicles\": \"bikes\", \"Daily Vehicles on Street\": 313, \"event\": \"\"}, {\"date\": \"2018-03-31\", \"Lime Vehicles\": \"bikes\", \"Daily Vehicles on Street\": 314, \"event\": \"\"}, {\"date\": \"2018-04-01\", \"Lime Vehicles\": \"bikes\", \"Daily Vehicles on Street\": 270, \"event\": \"\"}, {\"date\": \"2018-04-02\", \"Lime Vehicles\": \"bikes\", \"Daily Vehicles on Street\": 266, \"event\": \"\"}, {\"date\": \"2018-04-03\", \"Lime Vehicles\": \"bikes\", \"Daily Vehicles on Street\": 271, \"event\": \"\"}, {\"date\": \"2018-04-04\", \"Lime Vehicles\": \"bikes\", \"Daily Vehicles on Street\": 289, \"event\": \"\"}, {\"date\": \"2018-04-05\", \"Lime Vehicles\": \"bikes\", \"Daily Vehicles on Street\": 296, \"event\": \"\"}, {\"date\": \"2018-04-06\", \"Lime Vehicles\": \"bikes\", \"Daily Vehicles on Street\": 303, \"event\": \"\"}, {\"date\": \"2018-04-07\", \"Lime Vehicles\": \"bikes\", \"Daily Vehicles on Street\": 284, \"event\": \"\"}, {\"date\": \"2018-04-08\", \"Lime Vehicles\": \"bikes\", \"Daily Vehicles on Street\": 281, \"event\": \"\"}, {\"date\": \"2018-04-09\", \"Lime Vehicles\": \"bikes\", \"Daily Vehicles on Street\": 264, \"event\": \"\"}, {\"date\": \"2018-04-10\", \"Lime Vehicles\": \"bikes\", \"Daily Vehicles on Street\": 264, \"event\": \"\"}, {\"date\": \"2018-04-11\", \"Lime Vehicles\": \"bikes\", \"Daily Vehicles on Street\": 284, \"event\": \"\"}, {\"date\": \"2018-04-12\", \"Lime Vehicles\": \"bikes\", \"Daily Vehicles on Street\": 263, \"event\": \"\"}, {\"date\": \"2018-04-13\", \"Lime Vehicles\": \"bikes\", \"Daily Vehicles on Street\": 264, \"event\": \"\"}, {\"date\": \"2018-04-14\", \"Lime Vehicles\": \"bikes\", \"Daily Vehicles on Street\": 262, \"event\": \"\"}, {\"date\": \"2018-04-15\", \"Lime Vehicles\": \"bikes\", \"Daily Vehicles on Street\": 249, \"event\": \"\"}, {\"date\": \"2018-04-16\", \"Lime Vehicles\": \"bikes\", \"Daily Vehicles on Street\": 241, \"event\": \"\"}, {\"date\": \"2018-04-17\", \"Lime Vehicles\": \"bikes\", \"Daily Vehicles on Street\": 248, \"event\": \"\"}, {\"date\": \"2018-04-18\", \"Lime Vehicles\": \"bikes\", \"Daily Vehicles on Street\": 241, \"event\": \"\"}, {\"date\": \"2018-04-19\", \"Lime Vehicles\": \"bikes\", \"Daily Vehicles on Street\": 240, \"event\": \"\"}, {\"date\": \"2018-04-20\", \"Lime Vehicles\": \"bikes\", \"Daily Vehicles on Street\": 238, \"event\": \"\"}, {\"date\": \"2018-04-21\", \"Lime Vehicles\": \"bikes\", \"Daily Vehicles on Street\": 233, \"event\": \"\"}, {\"date\": \"2018-04-22\", \"Lime Vehicles\": \"bikes\", \"Daily Vehicles on Street\": 224, \"event\": \"\"}, {\"date\": \"2018-04-23\", \"Lime Vehicles\": \"bikes\", \"Daily Vehicles on Street\": 257, \"event\": \"\"}, {\"date\": \"2018-04-24\", \"Lime Vehicles\": \"bikes\", \"Daily Vehicles on Street\": 244, \"event\": \"\"}, {\"date\": \"2018-04-25\", \"Lime Vehicles\": \"bikes\", \"Daily Vehicles on Street\": 238, \"event\": \"\"}, {\"date\": \"2018-04-26\", \"Lime Vehicles\": \"bikes\", \"Daily Vehicles on Street\": 269, \"event\": \"\"}, {\"date\": \"2018-04-27\", \"Lime Vehicles\": \"bikes\", \"Daily Vehicles on Street\": 270, \"event\": \"\"}, {\"date\": \"2018-05-01\", \"Lime Vehicles\": \"bikes\", \"Daily Vehicles on Street\": 231, \"event\": \"\"}, {\"date\": \"2018-05-02\", \"Lime Vehicles\": \"bikes\", \"Daily Vehicles on Street\": 281, \"event\": \"\"}, {\"date\": \"2018-05-03\", \"Lime Vehicles\": \"bikes\", \"Daily Vehicles on Street\": 275, \"event\": \"\"}, {\"date\": \"2018-05-04\", \"Lime Vehicles\": \"bikes\", \"Daily Vehicles on Street\": 273, \"event\": \"\"}, {\"date\": \"2018-05-05\", \"Lime Vehicles\": \"bikes\", \"Daily Vehicles on Street\": 249, \"event\": \"\"}, {\"date\": \"2018-05-06\", \"Lime Vehicles\": \"bikes\", \"Daily Vehicles on Street\": 227, \"event\": \"\"}, {\"date\": \"2018-05-07\", \"Lime Vehicles\": \"bikes\", \"Daily Vehicles on Street\": 255, \"event\": \"\"}, {\"date\": \"2018-05-08\", \"Lime Vehicles\": \"bikes\", \"Daily Vehicles on Street\": 245, \"event\": \"\"}, {\"date\": \"2018-05-09\", \"Lime Vehicles\": \"bikes\", \"Daily Vehicles on Street\": 211, \"event\": \"\"}, {\"date\": \"2018-05-10\", \"Lime Vehicles\": \"bikes\", \"Daily Vehicles on Street\": 195, \"event\": \"\"}, {\"date\": \"2018-05-11\", \"Lime Vehicles\": \"bikes\", \"Daily Vehicles on Street\": 206, \"event\": \"\"}, {\"date\": \"2018-05-12\", \"Lime Vehicles\": \"bikes\", \"Daily Vehicles on Street\": 182, \"event\": \"\"}, {\"date\": \"2018-05-13\", \"Lime Vehicles\": \"bikes\", \"Daily Vehicles on Street\": 178, \"event\": \"\"}, {\"date\": \"2018-05-14\", \"Lime Vehicles\": \"bikes\", \"Daily Vehicles on Street\": 178, \"event\": \"\"}, {\"date\": \"2018-05-15\", \"Lime Vehicles\": \"bikes\", \"Daily Vehicles on Street\": 164, \"event\": \"\"}, {\"date\": \"2018-05-16\", \"Lime Vehicles\": \"bikes\", \"Daily Vehicles on Street\": 147, \"event\": \"\"}, {\"date\": \"2018-05-17\", \"Lime Vehicles\": \"bikes\", \"Daily Vehicles on Street\": 137, \"event\": \"\"}, {\"date\": \"2018-05-18\", \"Lime Vehicles\": \"bikes\", \"Daily Vehicles on Street\": 141, \"event\": \"\"}, {\"date\": \"2018-05-19\", \"Lime Vehicles\": \"bikes\", \"Daily Vehicles on Street\": 161, \"event\": \"\"}, {\"date\": \"2018-05-20\", \"Lime Vehicles\": \"bikes\", \"Daily Vehicles on Street\": 179, \"event\": \"\"}, {\"date\": \"2018-05-21\", \"Lime Vehicles\": \"bikes\", \"Daily Vehicles on Street\": 190, \"event\": \"\"}, {\"date\": \"2018-05-22\", \"Lime Vehicles\": \"bikes\", \"Daily Vehicles on Street\": 200, \"event\": \"\"}, {\"date\": \"2018-05-23\", \"Lime Vehicles\": \"bikes\", \"Daily Vehicles on Street\": 200, \"event\": \"\"}, {\"date\": \"2018-05-24\", \"Lime Vehicles\": \"bikes\", \"Daily Vehicles on Street\": 218, \"event\": \"\"}, {\"date\": \"2018-05-25\", \"Lime Vehicles\": \"bikes\", \"Daily Vehicles on Street\": 194, \"event\": \"\"}, {\"date\": \"2018-05-26\", \"Lime Vehicles\": \"bikes\", \"Daily Vehicles on Street\": 190, \"event\": \"\"}, {\"date\": \"2018-05-27\", \"Lime Vehicles\": \"bikes\", \"Daily Vehicles on Street\": 180, \"event\": \"\"}, {\"date\": \"2018-05-28\", \"Lime Vehicles\": \"bikes\", \"Daily Vehicles on Street\": 195, \"event\": \"\"}, {\"date\": \"2018-05-29\", \"Lime Vehicles\": \"bikes\", \"Daily Vehicles on Street\": 191, \"event\": \"\"}, {\"date\": \"2018-05-30\", \"Lime Vehicles\": \"bikes\", \"Daily Vehicles on Street\": 184, \"event\": \"\"}, {\"date\": \"2018-05-31\", \"Lime Vehicles\": \"bikes\", \"Daily Vehicles on Street\": 160, \"event\": \"\"}, {\"date\": \"2018-06-01\", \"Lime Vehicles\": \"bikes\", \"Daily Vehicles on Street\": 151, \"event\": \"\"}, {\"date\": \"2018-06-02\", \"Lime Vehicles\": \"bikes\", \"Daily Vehicles on Street\": 150, \"event\": \"\"}, {\"date\": \"2018-06-03\", \"Lime Vehicles\": \"bikes\", \"Daily Vehicles on Street\": 125, \"event\": \"\"}, {\"date\": \"2018-06-04\", \"Lime Vehicles\": \"bikes\", \"Daily Vehicles on Street\": 112, \"event\": \"\"}, {\"date\": \"2018-06-05\", \"Lime Vehicles\": \"bikes\", \"Daily Vehicles on Street\": 109, \"event\": \"\"}, {\"date\": \"2018-06-06\", \"Lime Vehicles\": \"bikes\", \"Daily Vehicles on Street\": 99, \"event\": \"\"}, {\"date\": \"2018-06-07\", \"Lime Vehicles\": \"bikes\", \"Daily Vehicles on Street\": 94, \"event\": \"\"}, {\"date\": \"2018-06-08\", \"Lime Vehicles\": \"bikes\", \"Daily Vehicles on Street\": 89, \"event\": \"\"}, {\"date\": \"2018-06-09\", \"Lime Vehicles\": \"bikes\", \"Daily Vehicles on Street\": 85, \"event\": \"\"}, {\"date\": \"2018-06-10\", \"Lime Vehicles\": \"bikes\", \"Daily Vehicles on Street\": 72, \"event\": \"\"}, {\"date\": \"2018-06-11\", \"Lime Vehicles\": \"bikes\", \"Daily Vehicles on Street\": 60, \"event\": \"\"}, {\"date\": \"2018-06-12\", \"Lime Vehicles\": \"bikes\", \"Daily Vehicles on Street\": 61, \"event\": \"\"}, {\"date\": \"2018-06-13\", \"Lime Vehicles\": \"bikes\", \"Daily Vehicles on Street\": 59, \"event\": \"\"}, {\"date\": \"2018-06-14\", \"Lime Vehicles\": \"bikes\", \"Daily Vehicles on Street\": 54, \"event\": \"\"}, {\"date\": \"2018-06-15\", \"Lime Vehicles\": \"bikes\", \"Daily Vehicles on Street\": 52, \"event\": \"\"}, {\"date\": \"2018-06-16\", \"Lime Vehicles\": \"bikes\", \"Daily Vehicles on Street\": 46, \"event\": \"\"}, {\"date\": \"2018-06-17\", \"Lime Vehicles\": \"bikes\", \"Daily Vehicles on Street\": 35, \"event\": \"\"}, {\"date\": \"2018-06-18\", \"Lime Vehicles\": \"bikes\", \"Daily Vehicles on Street\": 34, \"event\": \"\"}, {\"date\": \"2018-06-19\", \"Lime Vehicles\": \"bikes\", \"Daily Vehicles on Street\": 31, \"event\": \"\"}, {\"date\": \"2018-06-20\", \"Lime Vehicles\": \"bikes\", \"Daily Vehicles on Street\": 36, \"event\": \"\"}, {\"date\": \"2018-06-21\", \"Lime Vehicles\": \"bikes\", \"Daily Vehicles on Street\": 30, \"event\": \"\"}, {\"date\": \"2018-06-22\", \"Lime Vehicles\": \"bikes\", \"Daily Vehicles on Street\": 23, \"event\": \"\"}, {\"date\": \"2018-06-23\", \"Lime Vehicles\": \"bikes\", \"Daily Vehicles on Street\": 30, \"event\": \"\"}, {\"date\": \"2018-06-24\", \"Lime Vehicles\": \"bikes\", \"Daily Vehicles on Street\": 21, \"event\": \"\"}, {\"date\": \"2018-06-25\", \"Lime Vehicles\": \"bikes\", \"Daily Vehicles on Street\": 22, \"event\": \"\"}, {\"date\": \"2018-06-26\", \"Lime Vehicles\": \"bikes\", \"Daily Vehicles on Street\": 24, \"event\": \"\"}, {\"date\": \"2018-06-27\", \"Lime Vehicles\": \"bikes\", \"Daily Vehicles on Street\": 19, \"event\": \"\"}, {\"date\": \"2018-06-28\", \"Lime Vehicles\": \"bikes\", \"Daily Vehicles on Street\": 27, \"event\": \"\"}, {\"date\": \"2018-06-29\", \"Lime Vehicles\": \"bikes\", \"Daily Vehicles on Street\": 31, \"event\": \"\"}, {\"date\": \"2018-06-30\", \"Lime Vehicles\": \"bikes\", \"Daily Vehicles on Street\": 38, \"event\": \"\"}, {\"date\": \"2018-07-01\", \"Lime Vehicles\": \"bikes\", \"Daily Vehicles on Street\": 33, \"event\": \"\"}, {\"date\": \"2018-07-02\", \"Lime Vehicles\": \"bikes\", \"Daily Vehicles on Street\": 30, \"event\": \"\"}, {\"date\": \"2018-07-03\", \"Lime Vehicles\": \"bikes\", \"Daily Vehicles on Street\": 32, \"event\": \"\"}, {\"date\": \"2018-07-04\", \"Lime Vehicles\": \"bikes\", \"Daily Vehicles on Street\": 35, \"event\": \"\"}, {\"date\": \"2018-07-05\", \"Lime Vehicles\": \"bikes\", \"Daily Vehicles on Street\": 36, \"event\": \"\"}, {\"date\": \"2018-07-06\", \"Lime Vehicles\": \"bikes\", \"Daily Vehicles on Street\": 34, \"event\": \"\"}, {\"date\": \"2018-07-07\", \"Lime Vehicles\": \"bikes\", \"Daily Vehicles on Street\": 44, \"event\": \"\"}, {\"date\": \"2018-07-08\", \"Lime Vehicles\": \"bikes\", \"Daily Vehicles on Street\": 43, \"event\": \"\"}, {\"date\": \"2018-07-09\", \"Lime Vehicles\": \"bikes\", \"Daily Vehicles on Street\": 41, \"event\": \"\"}, {\"date\": \"2018-07-10\", \"Lime Vehicles\": \"bikes\", \"Daily Vehicles on Street\": 41, \"event\": \"\"}, {\"date\": \"2018-07-11\", \"Lime Vehicles\": \"bikes\", \"Daily Vehicles on Street\": 58, \"event\": \"\"}, {\"date\": \"2018-07-12\", \"Lime Vehicles\": \"bikes\", \"Daily Vehicles on Street\": 49, \"event\": \"\"}, {\"date\": \"2018-07-13\", \"Lime Vehicles\": \"bikes\", \"Daily Vehicles on Street\": 58, \"event\": \"\"}, {\"date\": \"2018-07-14\", \"Lime Vehicles\": \"bikes\", \"Daily Vehicles on Street\": 51, \"event\": \"\"}, {\"date\": \"2018-07-15\", \"Lime Vehicles\": \"bikes\", \"Daily Vehicles on Street\": 63, \"event\": \"\"}, {\"date\": \"2018-07-16\", \"Lime Vehicles\": \"bikes\", \"Daily Vehicles on Street\": 51, \"event\": \"\"}, {\"date\": \"2018-07-17\", \"Lime Vehicles\": \"bikes\", \"Daily Vehicles on Street\": 46, \"event\": \"\"}, {\"date\": \"2018-07-18\", \"Lime Vehicles\": \"bikes\", \"Daily Vehicles on Street\": 49, \"event\": \"\"}, {\"date\": \"2018-07-19\", \"Lime Vehicles\": \"bikes\", \"Daily Vehicles on Street\": 58, \"event\": \"\"}, {\"date\": \"2018-07-20\", \"Lime Vehicles\": \"bikes\", \"Daily Vehicles on Street\": 60, \"event\": \"\"}, {\"date\": \"2018-07-21\", \"Lime Vehicles\": \"bikes\", \"Daily Vehicles on Street\": 56, \"event\": \"\"}, {\"date\": \"2018-07-22\", \"Lime Vehicles\": \"bikes\", \"Daily Vehicles on Street\": 53, \"event\": \"\"}, {\"date\": \"2018-07-23\", \"Lime Vehicles\": \"bikes\", \"Daily Vehicles on Street\": 56, \"event\": \"\"}, {\"date\": \"2018-07-24\", \"Lime Vehicles\": \"bikes\", \"Daily Vehicles on Street\": 58, \"event\": \"\"}, {\"date\": \"2018-07-25\", \"Lime Vehicles\": \"bikes\", \"Daily Vehicles on Street\": 49, \"event\": \"\"}, {\"date\": \"2018-07-26\", \"Lime Vehicles\": \"bikes\", \"Daily Vehicles on Street\": 49, \"event\": \"\"}, {\"date\": \"2018-07-27\", \"Lime Vehicles\": \"bikes\", \"Daily Vehicles on Street\": 48, \"event\": \"\"}, {\"date\": \"2018-07-28\", \"Lime Vehicles\": \"bikes\", \"Daily Vehicles on Street\": 55, \"event\": \"\"}, {\"date\": \"2018-07-29\", \"Lime Vehicles\": \"bikes\", \"Daily Vehicles on Street\": 55, \"event\": \"\"}, {\"date\": \"2018-07-30\", \"Lime Vehicles\": \"bikes\", \"Daily Vehicles on Street\": 47, \"event\": \"\"}, {\"date\": \"2018-07-31\", \"Lime Vehicles\": \"bikes\", \"Daily Vehicles on Street\": 38, \"event\": \"\"}, {\"date\": \"2018-08-01\", \"Lime Vehicles\": \"bikes\", \"Daily Vehicles on Street\": 35, \"event\": \"\"}, {\"date\": \"2018-08-02\", \"Lime Vehicles\": \"bikes\", \"Daily Vehicles on Street\": 35, \"event\": \"\"}, {\"date\": \"2018-08-03\", \"Lime Vehicles\": \"bikes\", \"Daily Vehicles on Street\": 46, \"event\": \"\"}, {\"date\": \"2018-08-04\", \"Lime Vehicles\": \"bikes\", \"Daily Vehicles on Street\": 40, \"event\": \"\"}, {\"date\": \"2018-08-05\", \"Lime Vehicles\": \"bikes\", \"Daily Vehicles on Street\": 38, \"event\": \"\"}, {\"date\": \"2018-08-06\", \"Lime Vehicles\": \"bikes\", \"Daily Vehicles on Street\": 42, \"event\": \"\"}, {\"date\": \"2018-08-07\", \"Lime Vehicles\": \"bikes\", \"Daily Vehicles on Street\": 44, \"event\": \"\"}, {\"date\": \"2018-08-08\", \"Lime Vehicles\": \"bikes\", \"Daily Vehicles on Street\": 47, \"event\": \"\"}, {\"date\": \"2018-08-09\", \"Lime Vehicles\": \"bikes\", \"Daily Vehicles on Street\": 44, \"event\": \"\"}, {\"date\": \"2018-08-10\", \"Lime Vehicles\": \"bikes\", \"Daily Vehicles on Street\": 41, \"event\": \"\"}, {\"date\": \"2018-08-11\", \"Lime Vehicles\": \"bikes\", \"Daily Vehicles on Street\": 50, \"event\": \"\"}, {\"date\": \"2018-08-12\", \"Lime Vehicles\": \"bikes\", \"Daily Vehicles on Street\": 52, \"event\": \"\"}, {\"date\": \"2018-08-13\", \"Lime Vehicles\": \"bikes\", \"Daily Vehicles on Street\": 57, \"event\": \"\"}, {\"date\": \"2018-08-14\", \"Lime Vehicles\": \"bikes\", \"Daily Vehicles on Street\": 58, \"event\": \"\"}, {\"date\": \"2018-08-15\", \"Lime Vehicles\": \"bikes\", \"Daily Vehicles on Street\": 64, \"event\": \"\"}, {\"date\": \"2018-08-16\", \"Lime Vehicles\": \"bikes\", \"Daily Vehicles on Street\": 72, \"event\": \"\"}, {\"date\": \"2018-08-17\", \"Lime Vehicles\": \"bikes\", \"Daily Vehicles on Street\": 75, \"event\": \"\"}, {\"date\": \"2018-08-18\", \"Lime Vehicles\": \"bikes\", \"Daily Vehicles on Street\": 72, \"event\": \"\"}, {\"date\": \"2018-08-19\", \"Lime Vehicles\": \"bikes\", \"Daily Vehicles on Street\": 74, \"event\": \"\"}, {\"date\": \"2018-08-20\", \"Lime Vehicles\": \"bikes\", \"Daily Vehicles on Street\": 75, \"event\": \"\"}, {\"date\": \"2018-08-21\", \"Lime Vehicles\": \"bikes\", \"Daily Vehicles on Street\": 75, \"event\": \"\"}, {\"date\": \"2018-08-22\", \"Lime Vehicles\": \"bikes\", \"Daily Vehicles on Street\": 75, \"event\": \"\"}, {\"date\": \"2018-08-23\", \"Lime Vehicles\": \"bikes\", \"Daily Vehicles on Street\": 78, \"event\": \"\"}, {\"date\": \"2018-08-24\", \"Lime Vehicles\": \"bikes\", \"Daily Vehicles on Street\": 66, \"event\": \"\"}, {\"date\": \"2018-08-25\", \"Lime Vehicles\": \"bikes\", \"Daily Vehicles on Street\": 65, \"event\": \"\"}, {\"date\": \"2018-08-26\", \"Lime Vehicles\": \"bikes\", \"Daily Vehicles on Street\": 65, \"event\": \"\"}, {\"date\": \"2018-08-27\", \"Lime Vehicles\": \"bikes\", \"Daily Vehicles on Street\": 68, \"event\": \"\"}, {\"date\": \"2018-08-28\", \"Lime Vehicles\": \"bikes\", \"Daily Vehicles on Street\": 69, \"event\": \"\"}, {\"date\": \"2018-08-29\", \"Lime Vehicles\": \"bikes\", \"Daily Vehicles on Street\": 60, \"event\": \"\"}, {\"date\": \"2018-08-30\", \"Lime Vehicles\": \"bikes\", \"Daily Vehicles on Street\": 53, \"event\": \"\"}, {\"date\": \"2018-08-31\", \"Lime Vehicles\": \"bikes\", \"Daily Vehicles on Street\": 58, \"event\": \"\"}, {\"date\": \"2018-09-01\", \"Lime Vehicles\": \"bikes\", \"Daily Vehicles on Street\": 60, \"event\": \"\"}, {\"date\": \"2018-09-02\", \"Lime Vehicles\": \"bikes\", \"Daily Vehicles on Street\": 54, \"event\": \"\"}, {\"date\": \"2018-09-03\", \"Lime Vehicles\": \"bikes\", \"Daily Vehicles on Street\": 59, \"event\": \"\"}, {\"date\": \"2018-09-04\", \"Lime Vehicles\": \"bikes\", \"Daily Vehicles on Street\": 48, \"event\": \"\"}, {\"date\": \"2018-09-05\", \"Lime Vehicles\": \"bikes\", \"Daily Vehicles on Street\": 47, \"event\": \"\"}, {\"date\": \"2018-09-06\", \"Lime Vehicles\": \"bikes\", \"Daily Vehicles on Street\": 49, \"event\": \"\"}, {\"date\": \"2018-09-07\", \"Lime Vehicles\": \"bikes\", \"Daily Vehicles on Street\": 44, \"event\": \"\"}, {\"date\": \"2018-09-08\", \"Lime Vehicles\": \"bikes\", \"Daily Vehicles on Street\": 43, \"event\": \"\"}, {\"date\": \"2018-09-09\", \"Lime Vehicles\": \"bikes\", \"Daily Vehicles on Street\": 30, \"event\": \"\"}, {\"date\": \"2018-09-10\", \"Lime Vehicles\": \"bikes\", \"Daily Vehicles on Street\": 36, \"event\": \"\"}, {\"date\": \"2018-09-11\", \"Lime Vehicles\": \"bikes\", \"Daily Vehicles on Street\": 35, \"event\": \"\"}, {\"date\": \"2018-09-12\", \"Lime Vehicles\": \"bikes\", \"Daily Vehicles on Street\": 32, \"event\": \"\"}, {\"date\": \"2018-09-13\", \"Lime Vehicles\": \"bikes\", \"Daily Vehicles on Street\": 34, \"event\": \"\"}, {\"date\": \"2018-09-14\", \"Lime Vehicles\": \"bikes\", \"Daily Vehicles on Street\": 28, \"event\": \"\"}, {\"date\": \"2018-02-18\", \"Lime Vehicles\": \"scooters\", \"Daily Vehicles on Street\": 0, \"event\": \"\"}, {\"date\": \"2018-02-19\", \"Lime Vehicles\": \"scooters\", \"Daily Vehicles on Street\": 0, \"event\": \"\"}, {\"date\": \"2018-02-20\", \"Lime Vehicles\": \"scooters\", \"Daily Vehicles on Street\": 0, \"event\": \"\"}, {\"date\": \"2018-02-21\", \"Lime Vehicles\": \"scooters\", \"Daily Vehicles on Street\": 0, \"event\": \"\"}, {\"date\": \"2018-02-22\", \"Lime Vehicles\": \"scooters\", \"Daily Vehicles on Street\": 0, \"event\": \"\"}, {\"date\": \"2018-02-23\", \"Lime Vehicles\": \"scooters\", \"Daily Vehicles on Street\": 0, \"event\": \"\"}, {\"date\": \"2018-02-24\", \"Lime Vehicles\": \"scooters\", \"Daily Vehicles on Street\": 0, \"event\": \"\"}, {\"date\": \"2018-02-25\", \"Lime Vehicles\": \"scooters\", \"Daily Vehicles on Street\": 0, \"event\": \"\"}, {\"date\": \"2018-02-26\", \"Lime Vehicles\": \"scooters\", \"Daily Vehicles on Street\": 0, \"event\": \"\"}, {\"date\": \"2018-02-27\", \"Lime Vehicles\": \"scooters\", \"Daily Vehicles on Street\": 0, \"event\": \"\"}, {\"date\": \"2018-02-28\", \"Lime Vehicles\": \"scooters\", \"Daily Vehicles on Street\": 0, \"event\": \"\"}, {\"date\": \"2018-03-01\", \"Lime Vehicles\": \"scooters\", \"Daily Vehicles on Street\": 0, \"event\": \"\"}, {\"date\": \"2018-03-02\", \"Lime Vehicles\": \"scooters\", \"Daily Vehicles on Street\": 0, \"event\": \"\"}, {\"date\": \"2018-03-03\", \"Lime Vehicles\": \"scooters\", \"Daily Vehicles on Street\": 0, \"event\": \"\"}, {\"date\": \"2018-03-04\", \"Lime Vehicles\": \"scooters\", \"Daily Vehicles on Street\": 0, \"event\": \"\"}, {\"date\": \"2018-03-05\", \"Lime Vehicles\": \"scooters\", \"Daily Vehicles on Street\": 0, \"event\": \"\"}, {\"date\": \"2018-03-06\", \"Lime Vehicles\": \"scooters\", \"Daily Vehicles on Street\": 0, \"event\": \"\"}, {\"date\": \"2018-03-07\", \"Lime Vehicles\": \"scooters\", \"Daily Vehicles on Street\": 0, \"event\": \"\"}, {\"date\": \"2018-03-08\", \"Lime Vehicles\": \"scooters\", \"Daily Vehicles on Street\": 0, \"event\": \"\"}, {\"date\": \"2018-03-09\", \"Lime Vehicles\": \"scooters\", \"Daily Vehicles on Street\": 0, \"event\": \"\"}, {\"date\": \"2018-03-10\", \"Lime Vehicles\": \"scooters\", \"Daily Vehicles on Street\": 7, \"event\": \"Scooters Intro  \"}, {\"date\": \"2018-03-11\", \"Lime Vehicles\": \"scooters\", \"Daily Vehicles on Street\": 21, \"event\": \"\"}, {\"date\": \"2018-03-12\", \"Lime Vehicles\": \"scooters\", \"Daily Vehicles on Street\": 30, \"event\": \"\"}, {\"date\": \"2018-03-13\", \"Lime Vehicles\": \"scooters\", \"Daily Vehicles on Street\": 30, \"event\": \"\"}, {\"date\": \"2018-03-14\", \"Lime Vehicles\": \"scooters\", \"Daily Vehicles on Street\": 24, \"event\": \"\"}, {\"date\": \"2018-03-15\", \"Lime Vehicles\": \"scooters\", \"Daily Vehicles on Street\": 30, \"event\": \"\"}, {\"date\": \"2018-03-16\", \"Lime Vehicles\": \"scooters\", \"Daily Vehicles on Street\": 30, \"event\": \"\"}, {\"date\": \"2018-03-17\", \"Lime Vehicles\": \"scooters\", \"Daily Vehicles on Street\": 23, \"event\": \"\"}, {\"date\": \"2018-03-18\", \"Lime Vehicles\": \"scooters\", \"Daily Vehicles on Street\": 28, \"event\": \"\"}, {\"date\": \"2018-03-19\", \"Lime Vehicles\": \"scooters\", \"Daily Vehicles on Street\": 26, \"event\": \"\"}, {\"date\": \"2018-03-20\", \"Lime Vehicles\": \"scooters\", \"Daily Vehicles on Street\": 23, \"event\": \"\"}, {\"date\": \"2018-03-21\", \"Lime Vehicles\": \"scooters\", \"Daily Vehicles on Street\": 0, \"event\": \"\"}, {\"date\": \"2018-03-22\", \"Lime Vehicles\": \"scooters\", \"Daily Vehicles on Street\": 12, \"event\": \"\"}, {\"date\": \"2018-03-23\", \"Lime Vehicles\": \"scooters\", \"Daily Vehicles on Street\": 97, \"event\": \"\"}, {\"date\": \"2018-03-24\", \"Lime Vehicles\": \"scooters\", \"Daily Vehicles on Street\": 100, \"event\": \"\"}, {\"date\": \"2018-03-25\", \"Lime Vehicles\": \"scooters\", \"Daily Vehicles on Street\": 91, \"event\": \"\"}, {\"date\": \"2018-03-26\", \"Lime Vehicles\": \"scooters\", \"Daily Vehicles on Street\": 90, \"event\": \"\"}, {\"date\": \"2018-03-27\", \"Lime Vehicles\": \"scooters\", \"Daily Vehicles on Street\": 88, \"event\": \"\"}, {\"date\": \"2018-03-28\", \"Lime Vehicles\": \"scooters\", \"Daily Vehicles on Street\": 89, \"event\": \"\"}, {\"date\": \"2018-03-29\", \"Lime Vehicles\": \"scooters\", \"Daily Vehicles on Street\": 113, \"event\": \"\"}, {\"date\": \"2018-03-30\", \"Lime Vehicles\": \"scooters\", \"Daily Vehicles on Street\": 102, \"event\": \"\"}, {\"date\": \"2018-03-31\", \"Lime Vehicles\": \"scooters\", \"Daily Vehicles on Street\": 86, \"event\": \"\"}, {\"date\": \"2018-04-01\", \"Lime Vehicles\": \"scooters\", \"Daily Vehicles on Street\": 71, \"event\": \"\"}, {\"date\": \"2018-04-02\", \"Lime Vehicles\": \"scooters\", \"Daily Vehicles on Street\": 71, \"event\": \"\"}, {\"date\": \"2018-04-03\", \"Lime Vehicles\": \"scooters\", \"Daily Vehicles on Street\": 73, \"event\": \"\"}, {\"date\": \"2018-04-04\", \"Lime Vehicles\": \"scooters\", \"Daily Vehicles on Street\": 88, \"event\": \"\"}, {\"date\": \"2018-04-05\", \"Lime Vehicles\": \"scooters\", \"Daily Vehicles on Street\": 81, \"event\": \"\"}, {\"date\": \"2018-04-06\", \"Lime Vehicles\": \"scooters\", \"Daily Vehicles on Street\": 77, \"event\": \"\"}, {\"date\": \"2018-04-07\", \"Lime Vehicles\": \"scooters\", \"Daily Vehicles on Street\": 78, \"event\": \"\"}, {\"date\": \"2018-04-08\", \"Lime Vehicles\": \"scooters\", \"Daily Vehicles on Street\": 71, \"event\": \"\"}, {\"date\": \"2018-04-09\", \"Lime Vehicles\": \"scooters\", \"Daily Vehicles on Street\": 74, \"event\": \"\"}, {\"date\": \"2018-04-10\", \"Lime Vehicles\": \"scooters\", \"Daily Vehicles on Street\": 82, \"event\": \"\"}, {\"date\": \"2018-04-11\", \"Lime Vehicles\": \"scooters\", \"Daily Vehicles on Street\": 70, \"event\": \"\"}, {\"date\": \"2018-04-12\", \"Lime Vehicles\": \"scooters\", \"Daily Vehicles on Street\": 82, \"event\": \"\"}, {\"date\": \"2018-04-13\", \"Lime Vehicles\": \"scooters\", \"Daily Vehicles on Street\": 75, \"event\": \"\"}, {\"date\": \"2018-04-14\", \"Lime Vehicles\": \"scooters\", \"Daily Vehicles on Street\": 70, \"event\": \"\"}, {\"date\": \"2018-04-15\", \"Lime Vehicles\": \"scooters\", \"Daily Vehicles on Street\": 67, \"event\": \"\"}, {\"date\": \"2018-04-16\", \"Lime Vehicles\": \"scooters\", \"Daily Vehicles on Street\": 68, \"event\": \"\"}, {\"date\": \"2018-04-17\", \"Lime Vehicles\": \"scooters\", \"Daily Vehicles on Street\": 59, \"event\": \"\"}, {\"date\": \"2018-04-18\", \"Lime Vehicles\": \"scooters\", \"Daily Vehicles on Street\": 58, \"event\": \"\"}, {\"date\": \"2018-04-19\", \"Lime Vehicles\": \"scooters\", \"Daily Vehicles on Street\": 55, \"event\": \"\"}, {\"date\": \"2018-04-20\", \"Lime Vehicles\": \"scooters\", \"Daily Vehicles on Street\": 60, \"event\": \"\"}, {\"date\": \"2018-04-21\", \"Lime Vehicles\": \"scooters\", \"Daily Vehicles on Street\": 60, \"event\": \"\"}, {\"date\": \"2018-04-22\", \"Lime Vehicles\": \"scooters\", \"Daily Vehicles on Street\": 53, \"event\": \"\"}, {\"date\": \"2018-04-23\", \"Lime Vehicles\": \"scooters\", \"Daily Vehicles on Street\": 64, \"event\": \"\"}, {\"date\": \"2018-04-24\", \"Lime Vehicles\": \"scooters\", \"Daily Vehicles on Street\": 62, \"event\": \"\"}, {\"date\": \"2018-04-25\", \"Lime Vehicles\": \"scooters\", \"Daily Vehicles on Street\": 65, \"event\": \"\"}, {\"date\": \"2018-04-26\", \"Lime Vehicles\": \"scooters\", \"Daily Vehicles on Street\": 78, \"event\": \"\"}, {\"date\": \"2018-04-27\", \"Lime Vehicles\": \"scooters\", \"Daily Vehicles on Street\": 115, \"event\": \"DDOT extends pilot to Aug  \"}, {\"date\": \"2018-05-01\", \"Lime Vehicles\": \"scooters\", \"Daily Vehicles on Street\": 100, \"event\": \"\"}, {\"date\": \"2018-05-02\", \"Lime Vehicles\": \"scooters\", \"Daily Vehicles on Street\": 143, \"event\": \"\"}, {\"date\": \"2018-05-03\", \"Lime Vehicles\": \"scooters\", \"Daily Vehicles on Street\": 143, \"event\": \"\"}, {\"date\": \"2018-05-04\", \"Lime Vehicles\": \"scooters\", \"Daily Vehicles on Street\": 145, \"event\": \"\"}, {\"date\": \"2018-05-05\", \"Lime Vehicles\": \"scooters\", \"Daily Vehicles on Street\": 119, \"event\": \"\"}, {\"date\": \"2018-05-06\", \"Lime Vehicles\": \"scooters\", \"Daily Vehicles on Street\": 96, \"event\": \"\"}, {\"date\": \"2018-05-07\", \"Lime Vehicles\": \"scooters\", \"Daily Vehicles on Street\": 133, \"event\": \"\"}, {\"date\": \"2018-05-08\", \"Lime Vehicles\": \"scooters\", \"Daily Vehicles on Street\": 132, \"event\": \"\"}, {\"date\": \"2018-05-09\", \"Lime Vehicles\": \"scooters\", \"Daily Vehicles on Street\": 142, \"event\": \"\"}, {\"date\": \"2018-05-10\", \"Lime Vehicles\": \"scooters\", \"Daily Vehicles on Street\": 139, \"event\": \"\"}, {\"date\": \"2018-05-11\", \"Lime Vehicles\": \"scooters\", \"Daily Vehicles on Street\": 135, \"event\": \"\"}, {\"date\": \"2018-05-12\", \"Lime Vehicles\": \"scooters\", \"Daily Vehicles on Street\": 119, \"event\": \"\"}, {\"date\": \"2018-05-13\", \"Lime Vehicles\": \"scooters\", \"Daily Vehicles on Street\": 115, \"event\": \"\"}, {\"date\": \"2018-05-14\", \"Lime Vehicles\": \"scooters\", \"Daily Vehicles on Street\": 127, \"event\": \"\"}, {\"date\": \"2018-05-15\", \"Lime Vehicles\": \"scooters\", \"Daily Vehicles on Street\": 125, \"event\": \"\"}, {\"date\": \"2018-05-16\", \"Lime Vehicles\": \"scooters\", \"Daily Vehicles on Street\": 107, \"event\": \"\"}, {\"date\": \"2018-05-17\", \"Lime Vehicles\": \"scooters\", \"Daily Vehicles on Street\": 106, \"event\": \"\"}, {\"date\": \"2018-05-18\", \"Lime Vehicles\": \"scooters\", \"Daily Vehicles on Street\": 204, \"event\": \"\"}, {\"date\": \"2018-05-19\", \"Lime Vehicles\": \"scooters\", \"Daily Vehicles on Street\": 205, \"event\": \"\"}, {\"date\": \"2018-05-20\", \"Lime Vehicles\": \"scooters\", \"Daily Vehicles on Street\": 259, \"event\": \"\"}, {\"date\": \"2018-05-21\", \"Lime Vehicles\": \"scooters\", \"Daily Vehicles on Street\": 241, \"event\": \"More scooters announced  \"}, {\"date\": \"2018-05-22\", \"Lime Vehicles\": \"scooters\", \"Daily Vehicles on Street\": 317, \"event\": \"\"}, {\"date\": \"2018-05-23\", \"Lime Vehicles\": \"scooters\", \"Daily Vehicles on Street\": 313, \"event\": \"\"}, {\"date\": \"2018-05-24\", \"Lime Vehicles\": \"scooters\", \"Daily Vehicles on Street\": 292, \"event\": \"\"}, {\"date\": \"2018-05-25\", \"Lime Vehicles\": \"scooters\", \"Daily Vehicles on Street\": 347, \"event\": \"\"}, {\"date\": \"2018-05-26\", \"Lime Vehicles\": \"scooters\", \"Daily Vehicles on Street\": 312, \"event\": \"\"}, {\"date\": \"2018-05-27\", \"Lime Vehicles\": \"scooters\", \"Daily Vehicles on Street\": 311, \"event\": \"\"}, {\"date\": \"2018-05-28\", \"Lime Vehicles\": \"scooters\", \"Daily Vehicles on Street\": 277, \"event\": \"\"}, {\"date\": \"2018-05-29\", \"Lime Vehicles\": \"scooters\", \"Daily Vehicles on Street\": 297, \"event\": \"\"}, {\"date\": \"2018-05-30\", \"Lime Vehicles\": \"scooters\", \"Daily Vehicles on Street\": 302, \"event\": \"\"}, {\"date\": \"2018-05-31\", \"Lime Vehicles\": \"scooters\", \"Daily Vehicles on Street\": 278, \"event\": \"\"}, {\"date\": \"2018-06-01\", \"Lime Vehicles\": \"scooters\", \"Daily Vehicles on Street\": 262, \"event\": \"\"}, {\"date\": \"2018-06-02\", \"Lime Vehicles\": \"scooters\", \"Daily Vehicles on Street\": 223, \"event\": \"\"}, {\"date\": \"2018-06-03\", \"Lime Vehicles\": \"scooters\", \"Daily Vehicles on Street\": 228, \"event\": \"\"}, {\"date\": \"2018-06-04\", \"Lime Vehicles\": \"scooters\", \"Daily Vehicles on Street\": 233, \"event\": \"\"}, {\"date\": \"2018-06-05\", \"Lime Vehicles\": \"scooters\", \"Daily Vehicles on Street\": 217, \"event\": \"\"}, {\"date\": \"2018-06-06\", \"Lime Vehicles\": \"scooters\", \"Daily Vehicles on Street\": 219, \"event\": \"\"}, {\"date\": \"2018-06-07\", \"Lime Vehicles\": \"scooters\", \"Daily Vehicles on Street\": 195, \"event\": \"\"}, {\"date\": \"2018-06-08\", \"Lime Vehicles\": \"scooters\", \"Daily Vehicles on Street\": 174, \"event\": \"\"}, {\"date\": \"2018-06-09\", \"Lime Vehicles\": \"scooters\", \"Daily Vehicles on Street\": 146, \"event\": \"\"}, {\"date\": \"2018-06-10\", \"Lime Vehicles\": \"scooters\", \"Daily Vehicles on Street\": 160, \"event\": \"\"}, {\"date\": \"2018-06-11\", \"Lime Vehicles\": \"scooters\", \"Daily Vehicles on Street\": 171, \"event\": \"\"}, {\"date\": \"2018-06-12\", \"Lime Vehicles\": \"scooters\", \"Daily Vehicles on Street\": 163, \"event\": \"\"}, {\"date\": \"2018-06-13\", \"Lime Vehicles\": \"scooters\", \"Daily Vehicles on Street\": 155, \"event\": \"\"}, {\"date\": \"2018-06-14\", \"Lime Vehicles\": \"scooters\", \"Daily Vehicles on Street\": 130, \"event\": \"\"}, {\"date\": \"2018-06-15\", \"Lime Vehicles\": \"scooters\", \"Daily Vehicles on Street\": 122, \"event\": \"\"}, {\"date\": \"2018-06-16\", \"Lime Vehicles\": \"scooters\", \"Daily Vehicles on Street\": 102, \"event\": \"\"}, {\"date\": \"2018-06-17\", \"Lime Vehicles\": \"scooters\", \"Daily Vehicles on Street\": 75, \"event\": \"\"}, {\"date\": \"2018-06-18\", \"Lime Vehicles\": \"scooters\", \"Daily Vehicles on Street\": 71, \"event\": \"\"}, {\"date\": \"2018-06-19\", \"Lime Vehicles\": \"scooters\", \"Daily Vehicles on Street\": 66, \"event\": \"\"}, {\"date\": \"2018-06-20\", \"Lime Vehicles\": \"scooters\", \"Daily Vehicles on Street\": 54, \"event\": \"\"}, {\"date\": \"2018-06-21\", \"Lime Vehicles\": \"scooters\", \"Daily Vehicles on Street\": 48, \"event\": \"\"}, {\"date\": \"2018-06-22\", \"Lime Vehicles\": \"scooters\", \"Daily Vehicles on Street\": 39, \"event\": \"\"}, {\"date\": \"2018-06-23\", \"Lime Vehicles\": \"scooters\", \"Daily Vehicles on Street\": 33, \"event\": \"\"}, {\"date\": \"2018-06-24\", \"Lime Vehicles\": \"scooters\", \"Daily Vehicles on Street\": 32, \"event\": \"\"}, {\"date\": \"2018-06-25\", \"Lime Vehicles\": \"scooters\", \"Daily Vehicles on Street\": 38, \"event\": \"\"}, {\"date\": \"2018-06-26\", \"Lime Vehicles\": \"scooters\", \"Daily Vehicles on Street\": 204, \"event\": \"\"}, {\"date\": \"2018-06-27\", \"Lime Vehicles\": \"scooters\", \"Daily Vehicles on Street\": 295, \"event\": \"\"}, {\"date\": \"2018-06-28\", \"Lime Vehicles\": \"scooters\", \"Daily Vehicles on Street\": 404, \"event\": \"\"}, {\"date\": \"2018-06-29\", \"Lime Vehicles\": \"scooters\", \"Daily Vehicles on Street\": 430, \"event\": \"\"}, {\"date\": \"2018-06-30\", \"Lime Vehicles\": \"scooters\", \"Daily Vehicles on Street\": 346, \"event\": \"\"}, {\"date\": \"2018-07-01\", \"Lime Vehicles\": \"scooters\", \"Daily Vehicles on Street\": 259, \"event\": \"\"}, {\"date\": \"2018-07-02\", \"Lime Vehicles\": \"scooters\", \"Daily Vehicles on Street\": 346, \"event\": \"\"}, {\"date\": \"2018-07-03\", \"Lime Vehicles\": \"scooters\", \"Daily Vehicles on Street\": 413, \"event\": \"\"}, {\"date\": \"2018-07-04\", \"Lime Vehicles\": \"scooters\", \"Daily Vehicles on Street\": 365, \"event\": \"\"}, {\"date\": \"2018-07-05\", \"Lime Vehicles\": \"scooters\", \"Daily Vehicles on Street\": 321, \"event\": \"\"}, {\"date\": \"2018-07-06\", \"Lime Vehicles\": \"scooters\", \"Daily Vehicles on Street\": 254, \"event\": \"\"}, {\"date\": \"2018-07-07\", \"Lime Vehicles\": \"scooters\", \"Daily Vehicles on Street\": 214, \"event\": \"\"}, {\"date\": \"2018-07-08\", \"Lime Vehicles\": \"scooters\", \"Daily Vehicles on Street\": 181, \"event\": \"\"}, {\"date\": \"2018-07-09\", \"Lime Vehicles\": \"scooters\", \"Daily Vehicles on Street\": 193, \"event\": \"\"}, {\"date\": \"2018-07-10\", \"Lime Vehicles\": \"scooters\", \"Daily Vehicles on Street\": 179, \"event\": \"\"}, {\"date\": \"2018-07-11\", \"Lime Vehicles\": \"scooters\", \"Daily Vehicles on Street\": 160, \"event\": \"\"}, {\"date\": \"2018-07-12\", \"Lime Vehicles\": \"scooters\", \"Daily Vehicles on Street\": 190, \"event\": \"\"}, {\"date\": \"2018-07-13\", \"Lime Vehicles\": \"scooters\", \"Daily Vehicles on Street\": 155, \"event\": \"\"}, {\"date\": \"2018-07-14\", \"Lime Vehicles\": \"scooters\", \"Daily Vehicles on Street\": 143, \"event\": \"\"}, {\"date\": \"2018-07-15\", \"Lime Vehicles\": \"scooters\", \"Daily Vehicles on Street\": 116, \"event\": \"\"}, {\"date\": \"2018-07-16\", \"Lime Vehicles\": \"scooters\", \"Daily Vehicles on Street\": 102, \"event\": \"\"}, {\"date\": \"2018-07-17\", \"Lime Vehicles\": \"scooters\", \"Daily Vehicles on Street\": 133, \"event\": \"\"}, {\"date\": \"2018-07-18\", \"Lime Vehicles\": \"scooters\", \"Daily Vehicles on Street\": 143, \"event\": \"\"}, {\"date\": \"2018-07-19\", \"Lime Vehicles\": \"scooters\", \"Daily Vehicles on Street\": 137, \"event\": \"\"}, {\"date\": \"2018-07-20\", \"Lime Vehicles\": \"scooters\", \"Daily Vehicles on Street\": 116, \"event\": \"\"}, {\"date\": \"2018-07-21\", \"Lime Vehicles\": \"scooters\", \"Daily Vehicles on Street\": 107, \"event\": \"\"}, {\"date\": \"2018-07-22\", \"Lime Vehicles\": \"scooters\", \"Daily Vehicles on Street\": 99, \"event\": \"\"}, {\"date\": \"2018-07-23\", \"Lime Vehicles\": \"scooters\", \"Daily Vehicles on Street\": 93, \"event\": \"\"}, {\"date\": \"2018-07-24\", \"Lime Vehicles\": \"scooters\", \"Daily Vehicles on Street\": 78, \"event\": \"\"}, {\"date\": \"2018-07-25\", \"Lime Vehicles\": \"scooters\", \"Daily Vehicles on Street\": 266, \"event\": \"\"}, {\"date\": \"2018-07-26\", \"Lime Vehicles\": \"scooters\", \"Daily Vehicles on Street\": 254, \"event\": \"\"}, {\"date\": \"2018-07-27\", \"Lime Vehicles\": \"scooters\", \"Daily Vehicles on Street\": 243, \"event\": \"\"}, {\"date\": \"2018-07-28\", \"Lime Vehicles\": \"scooters\", \"Daily Vehicles on Street\": 400, \"event\": \"\"}, {\"date\": \"2018-07-29\", \"Lime Vehicles\": \"scooters\", \"Daily Vehicles on Street\": 366, \"event\": \"\"}, {\"date\": \"2018-07-30\", \"Lime Vehicles\": \"scooters\", \"Daily Vehicles on Street\": 389, \"event\": \"\"}, {\"date\": \"2018-07-31\", \"Lime Vehicles\": \"scooters\", \"Daily Vehicles on Street\": 344, \"event\": \"\"}, {\"date\": \"2018-08-01\", \"Lime Vehicles\": \"scooters\", \"Daily Vehicles on Street\": 394, \"event\": \"\"}, {\"date\": \"2018-08-02\", \"Lime Vehicles\": \"scooters\", \"Daily Vehicles on Street\": 401, \"event\": \"\"}, {\"date\": \"2018-08-03\", \"Lime Vehicles\": \"scooters\", \"Daily Vehicles on Street\": 402, \"event\": \"\"}, {\"date\": \"2018-08-04\", \"Lime Vehicles\": \"scooters\", \"Daily Vehicles on Street\": 384, \"event\": \"\"}, {\"date\": \"2018-08-05\", \"Lime Vehicles\": \"scooters\", \"Daily Vehicles on Street\": 372, \"event\": \"\"}, {\"date\": \"2018-08-06\", \"Lime Vehicles\": \"scooters\", \"Daily Vehicles on Street\": 382, \"event\": \"\"}, {\"date\": \"2018-08-07\", \"Lime Vehicles\": \"scooters\", \"Daily Vehicles on Street\": 360, \"event\": \"\"}, {\"date\": \"2018-08-08\", \"Lime Vehicles\": \"scooters\", \"Daily Vehicles on Street\": 367, \"event\": \"\"}, {\"date\": \"2018-08-09\", \"Lime Vehicles\": \"scooters\", \"Daily Vehicles on Street\": 376, \"event\": \"\"}, {\"date\": \"2018-08-10\", \"Lime Vehicles\": \"scooters\", \"Daily Vehicles on Street\": 376, \"event\": \"\"}, {\"date\": \"2018-08-11\", \"Lime Vehicles\": \"scooters\", \"Daily Vehicles on Street\": 545, \"event\": \"\"}, {\"date\": \"2018-08-12\", \"Lime Vehicles\": \"scooters\", \"Daily Vehicles on Street\": 496, \"event\": \"\"}, {\"date\": \"2018-08-13\", \"Lime Vehicles\": \"scooters\", \"Daily Vehicles on Street\": 467, \"event\": \"\"}, {\"date\": \"2018-08-14\", \"Lime Vehicles\": \"scooters\", \"Daily Vehicles on Street\": 509, \"event\": \"\"}, {\"date\": \"2018-08-15\", \"Lime Vehicles\": \"scooters\", \"Daily Vehicles on Street\": 499, \"event\": \"\"}, {\"date\": \"2018-08-16\", \"Lime Vehicles\": \"scooters\", \"Daily Vehicles on Street\": 500, \"event\": \"\"}, {\"date\": \"2018-08-17\", \"Lime Vehicles\": \"scooters\", \"Daily Vehicles on Street\": 511, \"event\": \"\"}, {\"date\": \"2018-08-18\", \"Lime Vehicles\": \"scooters\", \"Daily Vehicles on Street\": 551, \"event\": \"\"}, {\"date\": \"2018-08-19\", \"Lime Vehicles\": \"scooters\", \"Daily Vehicles on Street\": 479, \"event\": \"\"}, {\"date\": \"2018-08-20\", \"Lime Vehicles\": \"scooters\", \"Daily Vehicles on Street\": 487, \"event\": \"\"}, {\"date\": \"2018-08-21\", \"Lime Vehicles\": \"scooters\", \"Daily Vehicles on Street\": 484, \"event\": \"\"}, {\"date\": \"2018-08-22\", \"Lime Vehicles\": \"scooters\", \"Daily Vehicles on Street\": 488, \"event\": \"\"}, {\"date\": \"2018-08-23\", \"Lime Vehicles\": \"scooters\", \"Daily Vehicles on Street\": 479, \"event\": \"\"}, {\"date\": \"2018-08-24\", \"Lime Vehicles\": \"scooters\", \"Daily Vehicles on Street\": 449, \"event\": \"\"}, {\"date\": \"2018-08-25\", \"Lime Vehicles\": \"scooters\", \"Daily Vehicles on Street\": 474, \"event\": \"\"}, {\"date\": \"2018-08-26\", \"Lime Vehicles\": \"scooters\", \"Daily Vehicles on Street\": 498, \"event\": \"\"}, {\"date\": \"2018-08-27\", \"Lime Vehicles\": \"scooters\", \"Daily Vehicles on Street\": 497, \"event\": \"\"}, {\"date\": \"2018-08-28\", \"Lime Vehicles\": \"scooters\", \"Daily Vehicles on Street\": 477, \"event\": \"\"}, {\"date\": \"2018-08-29\", \"Lime Vehicles\": \"scooters\", \"Daily Vehicles on Street\": 473, \"event\": \"\"}, {\"date\": \"2018-08-30\", \"Lime Vehicles\": \"scooters\", \"Daily Vehicles on Street\": 445, \"event\": \"DDOT extends pilot to Dec  \"}, {\"date\": \"2018-08-31\", \"Lime Vehicles\": \"scooters\", \"Daily Vehicles on Street\": 444, \"event\": \"\"}, {\"date\": \"2018-09-01\", \"Lime Vehicles\": \"scooters\", \"Daily Vehicles on Street\": 415, \"event\": \"\"}, {\"date\": \"2018-09-02\", \"Lime Vehicles\": \"scooters\", \"Daily Vehicles on Street\": 406, \"event\": \"\"}, {\"date\": \"2018-09-03\", \"Lime Vehicles\": \"scooters\", \"Daily Vehicles on Street\": 408, \"event\": \"\"}, {\"date\": \"2018-09-04\", \"Lime Vehicles\": \"scooters\", \"Daily Vehicles on Street\": 432, \"event\": \"\"}, {\"date\": \"2018-09-05\", \"Lime Vehicles\": \"scooters\", \"Daily Vehicles on Street\": 424, \"event\": \"\"}, {\"date\": \"2018-09-06\", \"Lime Vehicles\": \"scooters\", \"Daily Vehicles on Street\": 412, \"event\": \"\"}, {\"date\": \"2018-09-07\", \"Lime Vehicles\": \"scooters\", \"Daily Vehicles on Street\": 420, \"event\": \"\"}, {\"date\": \"2018-09-08\", \"Lime Vehicles\": \"scooters\", \"Daily Vehicles on Street\": 375, \"event\": \"\"}, {\"date\": \"2018-09-09\", \"Lime Vehicles\": \"scooters\", \"Daily Vehicles on Street\": 350, \"event\": \"\"}, {\"date\": \"2018-09-10\", \"Lime Vehicles\": \"scooters\", \"Daily Vehicles on Street\": 363, \"event\": \"\"}, {\"date\": \"2018-09-11\", \"Lime Vehicles\": \"scooters\", \"Daily Vehicles on Street\": 378, \"event\": \"\"}, {\"date\": \"2018-09-12\", \"Lime Vehicles\": \"scooters\", \"Daily Vehicles on Street\": 362, \"event\": \"\"}, {\"date\": \"2018-09-13\", \"Lime Vehicles\": \"scooters\", \"Daily Vehicles on Street\": 341, \"event\": \"\"}, {\"date\": \"2018-09-14\", \"Lime Vehicles\": \"scooters\", \"Daily Vehicles on Street\": 309, \"event\": \"\"}]}, \"mark\": {\"type\": \"line\", \"opacity\": 0.6}, \"encoding\": {\"color\": {\"type\": \"nominal\", \"field\": \"Lime Vehicles\", \"legend\": {\"orient\": \"top-left\", \"title\": null}, \"scale\": {\"range\": [\"#00ff26\", \"blue\"]}}, \"x\": {\"type\": \"temporal\", \"field\": \"date\"}, \"y\": {\"type\": \"quantitative\", \"field\": \"Daily Vehicles on Street\"}}}, {\"data\": {\"values\": [{\"date\": \"2018-03-10\", \"Lime Vehicles\": \"scooters\", \"Daily Vehicles on Street\": 7, \"event\": \"Scooters Intro  \"}, {\"date\": \"2018-04-27\", \"Lime Vehicles\": \"scooters\", \"Daily Vehicles on Street\": 115, \"event\": \"DDOT extends pilot to Aug  \"}, {\"date\": \"2018-05-21\", \"Lime Vehicles\": \"scooters\", \"Daily Vehicles on Street\": 241, \"event\": \"More scooters announced  \"}, {\"date\": \"2018-08-30\", \"Lime Vehicles\": \"scooters\", \"Daily Vehicles on Street\": 445, \"event\": \"DDOT extends pilot to Dec  \"}]}, \"mark\": {\"type\": \"point\", \"color\": \"red\"}, \"encoding\": {\"x\": {\"type\": \"temporal\", \"field\": \"date\"}, \"y\": {\"type\": \"quantitative\", \"field\": \"Daily Vehicles on Street\"}}}, {\"data\": {\"values\": [{\"date\": \"2018-03-10\", \"Lime Vehicles\": \"scooters\", \"Daily Vehicles on Street\": 7, \"event\": \"Scooters Intro  \"}, {\"date\": \"2018-04-27\", \"Lime Vehicles\": \"scooters\", \"Daily Vehicles on Street\": 115, \"event\": \"DDOT extends pilot to Aug  \"}, {\"date\": \"2018-05-21\", \"Lime Vehicles\": \"scooters\", \"Daily Vehicles on Street\": 241, \"event\": \"More scooters announced  \"}, {\"date\": \"2018-08-30\", \"Lime Vehicles\": \"scooters\", \"Daily Vehicles on Street\": 445, \"event\": \"DDOT extends pilot to Dec  \"}]}, \"mark\": {\"type\": \"text\", \"align\": \"right\", \"baseline\": \"bottom\"}, \"encoding\": {\"text\": {\"type\": \"nominal\", \"field\": \"event\"}, \"x\": {\"type\": \"temporal\", \"field\": \"date\"}, \"y\": {\"type\": \"quantitative\", \"field\": \"Daily Vehicles on Street\"}}}], \"$schema\": \"https://vega.github.io/schema/vega-lite/v2.4.3.json\"};\n",
       "var opt = {};\n",
       "var selector = \"#4e55c0d7-e3ad-42fc-86bc-0109a8b03c08\";\n",
       "var type = \"vega-lite\";\n",
       "\n",
       "var output_area = this;\n",
       "\n",
       "require(['nbextensions/jupyter-vega3/index'], function(vega) {\n",
       "  vega.render(selector, spec, type, opt, output_area);\n",
       "}, function (err) {\n",
       "  if (err.requireType !== 'scripterror') {\n",
       "    throw(err);\n",
       "  }\n",
       "});\n"
      ]
     },
     "metadata": {
      "jupyter-vega3": "#4e55c0d7-e3ad-42fc-86bc-0109a8b03c08"
     },
     "output_type": "display_data"
    },
    {
     "data": {
      "image/png": "[encoded data removed]"
     },
     "metadata": {
      "jupyter-vega3": "#4e55c0d7-e3ad-42fc-86bc-0109a8b03c08"
     },
     "output_type": "display_data"
    },
    {
     "data": {
      "text/plain": []
     },
     "execution_count": 17,
     "metadata": {},
     "output_type": "execute_result"
    }
   ],
   "source": [
    "line_chart = alt.Chart(merge_df).mark_line(opacity=0.6).encode(\n",
    "             alt.X('date'),\n",
    "             alt.Y('Daily Vehicles on Street'),\n",
    "             alt.Color('Lime Vehicles',\n",
    "                      legend=alt.Legend(title=None, orient='top-left'),\n",
    "                      scale=alt.Scale(range=['#00ff26', 'blue']))\n",
    "             )\n",
    "\n",
    "# points\n",
    "points = alt.Chart(merge_df[merge_df['event'] != '']\n",
    "             ).mark_point(color='red'\n",
    "                \n",
    "             ).encode(\n",
    "             alt.X('date'),\n",
    "             alt.Y('Daily Vehicles on Street')\n",
    ")\n",
    "\n",
    "# Annotated points\n",
    "text = points.mark_text(\n",
    "                  align='right',\n",
    "                  baseline='bottom',\n",
    "                    \n",
    "        ).encode(\n",
    "            text='event'\n",
    "        )\n",
    "\n",
    "\n",
    "lime_plot = line_chart + points + text\n",
    "\n",
    "lime_plot.save('lime.html')\n",
    "\n",
    "lime_plot"
   ]
  },
  {
   "cell_type": "code",
   "execution_count": 18,
   "metadata": {},
   "outputs": [],
   "source": [
    "df.to_csv(\"lime_count.csv\")"
   ]
  },
  {
   "cell_type": "markdown",
   "metadata": {},
   "source": [
    "## Plot Analysis\n",
    "\n",
    "Scooters are introduced on March 10, 2008 and their numbers on the street remain fairly flat until late May, when Lime announced that would start placing more scooters and removing a proportionate number of bikes to adhere to the DDOT dockless pilot 400 vehicle cap.  \n",
    "\n",
    "At about the same time, the average number of Lime bikes on the street reach their max for this time period at slightly more than 400 and takes a nose dive through the month of June.  At this point it looks like Lime made the decision to comprise their fleet of almost all scooters, which has persisted until today.\n",
    "\n",
    "Overall, we can see large swings in the number of vehicles on the street, as Lime is constantly replacing scooters and bikes.  This can most easily be seen in mid-July where right, only three weeks after putting 400+ scooters on the street, there are less than 200 scooters on the street, while the number of bikes stays relatively consistent.  \n",
    "\n",
    "It's possible that the popularity of the scooters caused wear and tear at a rate higher than Lime could replace them with new scooters.  We see an overcompensation for this phenomon in late August and early September where an average of over 500 scooters are on the street and then steadily declines over the following weeks.\n",
    "\n",
    "Between March 10th and mid September, Lime used at least 1,886 scooters and 3,960 total vehicles.  We don't know the exact numbers scooters used during this time period because Lime did not differentiate between scooters and bikes until June 13th, and we had to reverse engineer the scooter count prior to that date.  If a scooter was put on the street and subsequently removed prior to June 13th, we cannot identify that vehicle as a scooter, resulting in our scooter estimate being low.\n",
    "\n",
    "### Notes to Integrate into analysis\n",
    "\n",
    "* On date that more scooters announced, number of bikes begins to increase rapidly\n",
    "* Download trend for Jump looks similar to Lime after going vast majority scooters\n"
   ]
  },
  {
   "cell_type": "code",
   "execution_count": 47,
   "metadata": {},
   "outputs": [
    {
     "data": {
      "text/html": [
       "<div>\n",
       "<style>\n",
       "    .dataframe thead tr:only-child th {\n",
       "        text-align: right;\n",
       "    }\n",
       "\n",
       "    .dataframe thead th {\n",
       "        text-align: left;\n",
       "    }\n",
       "\n",
       "    .dataframe tbody tr th {\n",
       "        vertical-align: top;\n",
       "    }\n",
       "</style>\n",
       "<table border=\"1\" class=\"dataframe\">\n",
       "  <thead>\n",
       "    <tr style=\"text-align: right;\">\n",
       "      <th></th>\n",
       "      <th>count</th>\n",
       "    </tr>\n",
       "  </thead>\n",
       "  <tbody>\n",
       "    <tr>\n",
       "      <th>0</th>\n",
       "      <td>1886</td>\n",
       "    </tr>\n",
       "  </tbody>\n",
       "</table>\n",
       "</div>"
      ],
      "text/plain": [
       "   count\n",
       "0   1886"
      ]
     },
     "execution_count": 47,
     "metadata": {},
     "output_type": "execute_result"
    }
   ],
   "source": [
    "# Total Scooters\n",
    "\n",
    "total_scooters= pd.read_sql(\"\"\"SELECT DISTINCT count(distinct bike_id)\n",
    "                               from bike_locations\n",
    "                               where raw->'attributes'->>'vehicle_type'='scooter';\n",
    "                \"\"\", con=conn)\n",
    "\n",
    "total_scooters"
   ]
  },
  {
   "cell_type": "code",
   "execution_count": 48,
   "metadata": {},
   "outputs": [
    {
     "data": {
      "text/html": [
       "<div>\n",
       "<style>\n",
       "    .dataframe thead tr:only-child th {\n",
       "        text-align: right;\n",
       "    }\n",
       "\n",
       "    .dataframe thead th {\n",
       "        text-align: left;\n",
       "    }\n",
       "\n",
       "    .dataframe tbody tr th {\n",
       "        vertical-align: top;\n",
       "    }\n",
       "</style>\n",
       "<table border=\"1\" class=\"dataframe\">\n",
       "  <thead>\n",
       "    <tr style=\"text-align: right;\">\n",
       "      <th></th>\n",
       "      <th>count</th>\n",
       "    </tr>\n",
       "  </thead>\n",
       "  <tbody>\n",
       "    <tr>\n",
       "      <th>0</th>\n",
       "      <td>3960</td>\n",
       "    </tr>\n",
       "  </tbody>\n",
       "</table>\n",
       "</div>"
      ],
      "text/plain": [
       "   count\n",
       "0   3960"
      ]
     },
     "execution_count": 48,
     "metadata": {},
     "output_type": "execute_result"
    }
   ],
   "source": [
    "# Total Limes\n",
    "total_limes= pd.read_sql(\"\"\"SELECT DISTINCT count(distinct bike_id)\n",
    "                               from bike_locations\n",
    "                               where provider = 'limebike'\n",
    "                               ;\n",
    "                \"\"\", con=conn)\n",
    "\n",
    "total_limes\n"
   ]
  },
  {
   "cell_type": "code",
   "execution_count": 52,
   "metadata": {},
   "outputs": [
    {
     "data": {
      "text/html": [
       "<div>\n",
       "<style>\n",
       "    .dataframe thead tr:only-child th {\n",
       "        text-align: right;\n",
       "    }\n",
       "\n",
       "    .dataframe thead th {\n",
       "        text-align: left;\n",
       "    }\n",
       "\n",
       "    .dataframe tbody tr th {\n",
       "        vertical-align: top;\n",
       "    }\n",
       "</style>\n",
       "<table border=\"1\" class=\"dataframe\">\n",
       "  <thead>\n",
       "    <tr style=\"text-align: right;\">\n",
       "      <th></th>\n",
       "      <th>avg_bike_age</th>\n",
       "    </tr>\n",
       "  </thead>\n",
       "  <tbody>\n",
       "    <tr>\n",
       "      <th>0</th>\n",
       "      <td>22 days 21:01:29.382262</td>\n",
       "    </tr>\n",
       "  </tbody>\n",
       "</table>\n",
       "</div>"
      ],
      "text/plain": [
       "             avg_bike_age\n",
       "0 22 days 21:01:29.382262"
      ]
     },
     "execution_count": 52,
     "metadata": {},
     "output_type": "execute_result"
    }
   ],
   "source": [
    "# Average Age of Scooters\n",
    "scooter_age = pd.read_sql(\"\"\"select\n",
    "                            AVG(bike_age) as avg_bike_age\n",
    "                            FROM\n",
    "                            /*determine scooter age*/\n",
    "                            (SELECT\n",
    "                            locations.bike_id,\n",
    "                            min(created) as start_date,\n",
    "                            MAX(created) - MIN(created) as bike_age\n",
    "                            FROM \n",
    "                            /*determine lime scooters*/ \n",
    "                            (SELECT DISTINCT\n",
    "                              created, bike_id \n",
    "                              from bike_locations\n",
    "                              where provider='limebike') as locations\n",
    "                            JOIN\n",
    "                            (SELECT DISTINCT bike_id\n",
    "                                     from bike_locations\n",
    "                                     where raw->'attributes'->>'vehicle_type'='scooter') as scooters\n",
    "                            on locations.bike_id = scooters.bike_id\n",
    "                            GROUP BY 1) as bike_age\n",
    "                            where start_date <= '2018-08-18' \"\"\", con=conn)\n",
    "scooter_age"
   ]
  },
  {
   "cell_type": "markdown",
   "metadata": {},
   "source": [
    "## Vehicle Count Analysis\n",
    "\n",
    "Between March 10th and mid September, Lime used at least 1,886 scooters and 3,960 total vehicles.  We don't know the exact numbers scooters used during this time because Lime did not differentiate between scooters and bikes until June 13th, and we had to reverse engineer the scooter count prior to that date.  If a scooter was put on the street and subsequently removed prior to June 13th, we cannot identify that vehicle as a scooter, resulting in our scooter estimate being low.\n",
    "\n",
    "The average duration that scooters are on the streets for those scooters that were places on the street on or before August 18th is slightly under 23 days, well below the average of 70 days that dockless bikes lasted on the street between September and April as cited in my prior post, again pointing toward more wear and tear due to popularity\n"
   ]
  },
  {
   "cell_type": "code",
   "execution_count": null,
   "metadata": {},
   "outputs": [],
   "source": []
  }
 ],
 "metadata": {
  "kernelspec": {
   "display_name": "Python 3",
   "language": "python",
   "name": "python3"
  },
  "language_info": {
   "codemirror_mode": {
    "name": "ipython",
    "version": 3
   },
   "file_extension": ".py",
   "mimetype": "text/x-python",
   "name": "python",
   "nbconvert_exporter": "python",
   "pygments_lexer": "ipython3",
   "version": "3.6.3"
  }
 },
 "nbformat": 4,
 "nbformat_minor": 2
}
